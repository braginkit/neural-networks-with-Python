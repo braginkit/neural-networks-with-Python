{
  "nbformat": 4,
  "nbformat_minor": 0,
  "metadata": {
    "colab": {
      "name": "IBM_stock_prediction",
      "provenance": [],
      "authorship_tag": "ABX9TyOMrbj9PYjLQAKSOmh3Abt8",
      "include_colab_link": true
    },
    "kernelspec": {
      "name": "python3",
      "display_name": "Python 3"
    },
    "language_info": {
      "name": "python"
    }
  },
  "cells": [
    {
      "cell_type": "markdown",
      "metadata": {
        "id": "view-in-github",
        "colab_type": "text"
      },
      "source": [
        "<a href=\"https://colab.research.google.com/github/braginkit/neural-networks-with-Python/blob/main/IBM_stock_prediction.ipynb\" target=\"_parent\"><img src=\"https://colab.research.google.com/assets/colab-badge.svg\" alt=\"Open In Colab\"/></a>"
      ]
    },
    {
      "cell_type": "code",
      "metadata": {
        "id": "m4h9mix6ovni"
      },
      "source": [
        "import numpy as np\n",
        "import matplotlib.pyplot as plt\n",
        "plt.style.use('fivethirtyeight')\n",
        "import pandas as pd\n",
        "from sklearn.preprocessing import MinMaxScaler\n",
        "from keras.models import Sequential\n",
        "from keras.layers import Dense, LSTM, Dropout, GRU, Bidirectional\n",
        "from keras.optimizers import SGD\n",
        "import math\n",
        "from sklearn.metrics import mean_squared_error"
      ],
      "execution_count": null,
      "outputs": []
    },
    {
      "cell_type": "code",
      "metadata": {
        "id": "z3an6lmGo0tC"
      },
      "source": [
        "def plot_predictions(test,predicted):\n",
        "    plt.plot(test, color='red',label='Реальные цены на акции IBM')\n",
        "    plt.plot(predicted, color='blue',label='Предсказанные цены на акции IBM')\n",
        "    plt.title('Предсказание цен на акции IBM')\n",
        "    plt.xlabel('Время')\n",
        "    plt.ylabel('Цена за акцию')\n",
        "    plt.legend()\n",
        "    plt.show()\n",
        "\n",
        "def return_rmse(test,predicted):\n",
        "    rmse = math.sqrt(mean_squared_error(test, predicted))\n",
        "    print(\"Среднеквадратичная ошибка: {}.\".format(rmse))"
      ],
      "execution_count": null,
      "outputs": []
    },
    {
      "cell_type": "markdown",
      "metadata": {
        "id": "8kE79kAasiC0"
      },
      "source": [
        "Импорт данных"
      ]
    },
    {
      "cell_type": "code",
      "metadata": {
        "colab": {
          "base_uri": "https://localhost:8080/",
          "height": 235
        },
        "id": "-l7gnYvVo5Cb",
        "outputId": "442b5fbf-1876-4918-90a7-0acd9e954202"
      },
      "source": [
        "dataset = pd.read_csv('IBM_2006-01-01_to_2018-01-01.csv', index_col='Date', parse_dates=['Date'])\n",
        "dataset.head()"
      ],
      "execution_count": null,
      "outputs": [
        {
          "output_type": "execute_result",
          "data": {
            "text/html": [
              "<div>\n",
              "<style scoped>\n",
              "    .dataframe tbody tr th:only-of-type {\n",
              "        vertical-align: middle;\n",
              "    }\n",
              "\n",
              "    .dataframe tbody tr th {\n",
              "        vertical-align: top;\n",
              "    }\n",
              "\n",
              "    .dataframe thead th {\n",
              "        text-align: right;\n",
              "    }\n",
              "</style>\n",
              "<table border=\"1\" class=\"dataframe\">\n",
              "  <thead>\n",
              "    <tr style=\"text-align: right;\">\n",
              "      <th></th>\n",
              "      <th>Open</th>\n",
              "      <th>High</th>\n",
              "      <th>Low</th>\n",
              "      <th>Close</th>\n",
              "      <th>Volume</th>\n",
              "      <th>Name</th>\n",
              "    </tr>\n",
              "    <tr>\n",
              "      <th>Date</th>\n",
              "      <th></th>\n",
              "      <th></th>\n",
              "      <th></th>\n",
              "      <th></th>\n",
              "      <th></th>\n",
              "      <th></th>\n",
              "    </tr>\n",
              "  </thead>\n",
              "  <tbody>\n",
              "    <tr>\n",
              "      <th>2006-01-03</th>\n",
              "      <td>82.45</td>\n",
              "      <td>82.55</td>\n",
              "      <td>80.81</td>\n",
              "      <td>82.06</td>\n",
              "      <td>11715200</td>\n",
              "      <td>IBM</td>\n",
              "    </tr>\n",
              "    <tr>\n",
              "      <th>2006-01-04</th>\n",
              "      <td>82.20</td>\n",
              "      <td>82.50</td>\n",
              "      <td>81.33</td>\n",
              "      <td>81.95</td>\n",
              "      <td>9840600</td>\n",
              "      <td>IBM</td>\n",
              "    </tr>\n",
              "    <tr>\n",
              "      <th>2006-01-05</th>\n",
              "      <td>81.40</td>\n",
              "      <td>82.90</td>\n",
              "      <td>81.00</td>\n",
              "      <td>82.50</td>\n",
              "      <td>7213500</td>\n",
              "      <td>IBM</td>\n",
              "    </tr>\n",
              "    <tr>\n",
              "      <th>2006-01-06</th>\n",
              "      <td>83.95</td>\n",
              "      <td>85.03</td>\n",
              "      <td>83.41</td>\n",
              "      <td>84.95</td>\n",
              "      <td>8197400</td>\n",
              "      <td>IBM</td>\n",
              "    </tr>\n",
              "    <tr>\n",
              "      <th>2006-01-09</th>\n",
              "      <td>84.10</td>\n",
              "      <td>84.25</td>\n",
              "      <td>83.38</td>\n",
              "      <td>83.73</td>\n",
              "      <td>6858200</td>\n",
              "      <td>IBM</td>\n",
              "    </tr>\n",
              "  </tbody>\n",
              "</table>\n",
              "</div>"
            ],
            "text/plain": [
              "             Open   High    Low  Close    Volume Name\n",
              "Date                                                 \n",
              "2006-01-03  82.45  82.55  80.81  82.06  11715200  IBM\n",
              "2006-01-04  82.20  82.50  81.33  81.95   9840600  IBM\n",
              "2006-01-05  81.40  82.90  81.00  82.50   7213500  IBM\n",
              "2006-01-06  83.95  85.03  83.41  84.95   8197400  IBM\n",
              "2006-01-09  84.10  84.25  83.38  83.73   6858200  IBM"
            ]
          },
          "metadata": {
            "tags": []
          },
          "execution_count": 3
        }
      ]
    },
    {
      "cell_type": "code",
      "metadata": {
        "id": "cT3TWHU-pIlQ"
      },
      "source": [
        "# проверка на пропуски в данных\n",
        "training_set = dataset[:'2016'].iloc[:,1:2].values\n",
        "test_set = dataset['2017':].iloc[:,1:2].values"
      ],
      "execution_count": null,
      "outputs": []
    },
    {
      "cell_type": "markdown",
      "metadata": {
        "id": "o2QXUYNFsq1z"
      },
      "source": [
        "Посмотрим на то, как изменялась \"высокая\" цена за акцию с течением времени"
      ]
    },
    {
      "cell_type": "code",
      "metadata": {
        "colab": {
          "base_uri": "https://localhost:8080/",
          "height": 280
        },
        "id": "Huq0mF9xpNtx",
        "outputId": "bdc11147-be6c-417f-ef74-07c3f9d10eff"
      },
      "source": [
        "dataset[\"High\"][:'2016'].plot(figsize=(16,4),legend=True)\n",
        "dataset[\"High\"]['2017':].plot(figsize=(16,4),legend=True)\n",
        "plt.legend(['Обучающие данные (До 2017)','Тестовые данные (2017 и далее)'])\n",
        "plt.title('Цена за акцию IBM')\n",
        "plt.show()"
      ],
      "execution_count": null,
      "outputs": [
        {
          "output_type": "display_data",
          "data": {
            "image/png": "[encoded data removed]",
            "text/plain": [
              "<Figure size 1152x288 with 1 Axes>"
            ]
          },
          "metadata": {
            "tags": [],
            "needs_background": "light"
          }
        }
      ]
    },
    {
      "cell_type": "code",
      "metadata": {
        "id": "u6EQQcBZpS-K"
      },
      "source": [
        "# поменяем масштаб\n",
        "sc = MinMaxScaler(feature_range=(0,1))\n",
        "training_set_scaled = sc.fit_transform(training_set)"
      ],
      "execution_count": null,
      "outputs": []
    },
    {
      "cell_type": "markdown",
      "metadata": {
        "id": "WKFHuJjZsaMM"
      },
      "source": [
        "Поскольку LSTM долгое время хранит состония памяти, создадим структуру данных из 60 предыдущих состояний и 1 вывода. Получается, что для каждого элемента тренировочных данных у нас есть 60 предыдущих состояний в памяти"
      ]
    },
    {
      "cell_type": "code",
      "metadata": {
        "id": "zpw4nDeppWCs"
      },
      "source": [
        "X_train = []\n",
        "y_train = []\n",
        "for i in range(60,2769):\n",
        "    X_train.append(training_set_scaled[i-60:i,0])\n",
        "    y_train.append(training_set_scaled[i,0])\n",
        "X_train, y_train = np.array(X_train), np.array(y_train)"
      ],
      "execution_count": null,
      "outputs": []
    },
    {
      "cell_type": "code",
      "metadata": {
        "id": "h9wvan4NpY2F"
      },
      "source": [
        "X_train = np.reshape(X_train, (X_train.shape[0],X_train.shape[1],1))"
      ],
      "execution_count": null,
      "outputs": []
    },
    {
      "cell_type": "markdown",
      "metadata": {
        "id": "Rj4r4U3ks7RA"
      },
      "source": [
        "Описание архитектуры LSTM"
      ]
    },
    {
      "cell_type": "code",
      "metadata": {
        "colab": {
          "base_uri": "https://localhost:8080/"
        },
        "id": "egGyJmVHpbiv",
        "outputId": "64e91351-6816-4388-a73f-15a65c34a57d"
      },
      "source": [
        "regressor = Sequential()\n",
        "# Первый LSTM-нейрон\n",
        "regressor.add(LSTM(units=50, return_sequences=True, input_shape=(X_train.shape[1],1)))\n",
        "regressor.add(Dropout(0.2))\n",
        "# Второй LSTM-нейрон\n",
        "regressor.add(LSTM(units=50, return_sequences=True))\n",
        "regressor.add(Dropout(0.2))\n",
        "# Третий LSTM-нейрон\n",
        "regressor.add(LSTM(units=50, return_sequences=True))\n",
        "regressor.add(Dropout(0.2))\n",
        "# Четвертый LSTM-нейрон\n",
        "regressor.add(LSTM(units=50))\n",
        "regressor.add(Dropout(0.2))\n",
        "# Последний нерон, делающий финальный вывод\n",
        "regressor.add(Dense(units=1))\n",
        "\n",
        "# Компилирование\n",
        "regressor.compile(optimizer='rmsprop',loss='mean_squared_error')\n",
        "# Обучение модели\n",
        "regressor.fit(X_train,y_train,epochs=50,batch_size=32)"
      ],
      "execution_count": null,
      "outputs": [
        {
          "output_type": "stream",
          "text": [
            "Epoch 1/50\n",
            "85/85 [==============================] - 33s 117ms/step - loss: 0.0472\n",
            "Epoch 2/50\n",
            "85/85 [==============================] - 10s 118ms/step - loss: 0.0094\n",
            "Epoch 3/50\n",
            "85/85 [==============================] - 10s 118ms/step - loss: 0.0084\n",
            "Epoch 4/50\n",
            "85/85 [==============================] - 10s 118ms/step - loss: 0.0072\n",
            "Epoch 5/50\n",
            "85/85 [==============================] - 10s 119ms/step - loss: 0.0075\n",
            "Epoch 6/50\n",
            "85/85 [==============================] - 10s 118ms/step - loss: 0.0051\n",
            "Epoch 7/50\n",
            "85/85 [==============================] - 10s 120ms/step - loss: 0.0051\n",
            "Epoch 8/50\n",
            "85/85 [==============================] - 10s 118ms/step - loss: 0.0042\n",
            "Epoch 9/50\n",
            "85/85 [==============================] - 10s 118ms/step - loss: 0.0039\n",
            "Epoch 10/50\n",
            "85/85 [==============================] - 10s 117ms/step - loss: 0.0042\n",
            "Epoch 11/50\n",
            "85/85 [==============================] - 10s 117ms/step - loss: 0.0040\n",
            "Epoch 12/50\n",
            "85/85 [==============================] - 10s 118ms/step - loss: 0.0035\n",
            "Epoch 13/50\n",
            "85/85 [==============================] - 10s 119ms/step - loss: 0.0032\n",
            "Epoch 14/50\n",
            "85/85 [==============================] - 10s 118ms/step - loss: 0.0033\n",
            "Epoch 15/50\n",
            "85/85 [==============================] - 10s 118ms/step - loss: 0.0031\n",
            "Epoch 16/50\n",
            "85/85 [==============================] - 10s 119ms/step - loss: 0.0028\n",
            "Epoch 17/50\n",
            "85/85 [==============================] - 10s 120ms/step - loss: 0.0029\n",
            "Epoch 18/50\n",
            "85/85 [==============================] - 10s 119ms/step - loss: 0.0028\n",
            "Epoch 19/50\n",
            "85/85 [==============================] - 10s 118ms/step - loss: 0.0024\n",
            "Epoch 20/50\n",
            "85/85 [==============================] - 10s 118ms/step - loss: 0.0022\n",
            "Epoch 21/50\n",
            "85/85 [==============================] - 10s 118ms/step - loss: 0.0023\n",
            "Epoch 22/50\n",
            "85/85 [==============================] - 10s 118ms/step - loss: 0.0023\n",
            "Epoch 23/50\n",
            "85/85 [==============================] - 10s 118ms/step - loss: 0.0023\n",
            "Epoch 24/50\n",
            "85/85 [==============================] - 10s 119ms/step - loss: 0.0021\n",
            "Epoch 25/50\n",
            "85/85 [==============================] - 10s 119ms/step - loss: 0.0023\n",
            "Epoch 26/50\n",
            "85/85 [==============================] - 10s 118ms/step - loss: 0.0022\n",
            "Epoch 27/50\n",
            "85/85 [==============================] - 10s 118ms/step - loss: 0.0021\n",
            "Epoch 28/50\n",
            "85/85 [==============================] - 10s 119ms/step - loss: 0.0019\n",
            "Epoch 29/50\n",
            "85/85 [==============================] - 10s 119ms/step - loss: 0.0020\n",
            "Epoch 30/50\n",
            "85/85 [==============================] - 10s 118ms/step - loss: 0.0021\n",
            "Epoch 31/50\n",
            "85/85 [==============================] - 10s 117ms/step - loss: 0.0021\n",
            "Epoch 32/50\n",
            "85/85 [==============================] - 10s 117ms/step - loss: 0.0019\n",
            "Epoch 33/50\n",
            "85/85 [==============================] - 10s 117ms/step - loss: 0.0017\n",
            "Epoch 34/50\n",
            "85/85 [==============================] - 10s 119ms/step - loss: 0.0019\n",
            "Epoch 35/50\n",
            "85/85 [==============================] - 10s 119ms/step - loss: 0.0017\n",
            "Epoch 36/50\n",
            "85/85 [==============================] - 10s 119ms/step - loss: 0.0017\n",
            "Epoch 37/50\n",
            "85/85 [==============================] - 10s 118ms/step - loss: 0.0016\n",
            "Epoch 38/50\n",
            "85/85 [==============================] - 10s 119ms/step - loss: 0.0017\n",
            "Epoch 39/50\n",
            "85/85 [==============================] - 10s 120ms/step - loss: 0.0016\n",
            "Epoch 40/50\n",
            "85/85 [==============================] - 10s 119ms/step - loss: 0.0018\n",
            "Epoch 41/50\n",
            "85/85 [==============================] - 10s 118ms/step - loss: 0.0018\n",
            "Epoch 42/50\n",
            "85/85 [==============================] - 10s 118ms/step - loss: 0.0016\n",
            "Epoch 43/50\n",
            "85/85 [==============================] - 10s 118ms/step - loss: 0.0015\n",
            "Epoch 44/50\n",
            "85/85 [==============================] - 10s 117ms/step - loss: 0.0015\n",
            "Epoch 45/50\n",
            "85/85 [==============================] - 10s 118ms/step - loss: 0.0015\n",
            "Epoch 46/50\n",
            "85/85 [==============================] - 10s 118ms/step - loss: 0.0014\n",
            "Epoch 47/50\n",
            "85/85 [==============================] - 10s 118ms/step - loss: 0.0014\n",
            "Epoch 48/50\n",
            "85/85 [==============================] - 10s 119ms/step - loss: 0.0016\n",
            "Epoch 49/50\n",
            "85/85 [==============================] - 10s 118ms/step - loss: 0.0015\n",
            "Epoch 50/50\n",
            "85/85 [==============================] - 10s 118ms/step - loss: 0.0015\n"
          ],
          "name": "stdout"
        },
        {
          "output_type": "execute_result",
          "data": {
            "text/plain": [
              "<keras.callbacks.History at 0x7f0154f8f2d0>"
            ]
          },
          "metadata": {
            "tags": []
          },
          "execution_count": 9
        }
      ]
    },
    {
      "cell_type": "code",
      "metadata": {
        "id": "Mabq8MPTt8xq"
      },
      "source": [
        "dataset_total = pd.concat((dataset[\"High\"][:'2016'],dataset[\"High\"]['2017':]),axis=0)\n",
        "inputs = dataset_total[len(dataset_total)-len(test_set) - 60:].values\n",
        "inputs = inputs.reshape(-1,1)\n",
        "inputs  = sc.transform(inputs)"
      ],
      "execution_count": null,
      "outputs": []
    },
    {
      "cell_type": "markdown",
      "metadata": {
        "id": "doO1PoM5wB_w"
      },
      "source": [
        "Запускаем модель для предсказывания цен"
      ]
    },
    {
      "cell_type": "code",
      "metadata": {
        "id": "NxiMVI6UuS3N"
      },
      "source": [
        "X_test = []\n",
        "for i in range(60,311):\n",
        "    X_test.append(inputs[i-60:i,0])\n",
        "X_test = np.array(X_test)\n",
        "X_test = np.reshape(X_test, (X_test.shape[0],X_test.shape[1],1))\n",
        "predicted_stock_price = regressor.predict(X_test)\n",
        "predicted_stock_price = sc.inverse_transform(predicted_stock_price)"
      ],
      "execution_count": null,
      "outputs": []
    },
    {
      "cell_type": "markdown",
      "metadata": {
        "id": "-4fQ5IAMwKmj"
      },
      "source": [
        "Визуализация результатов работы LSTM"
      ]
    },
    {
      "cell_type": "code",
      "metadata": {
        "colab": {
          "base_uri": "https://localhost:8080/",
          "height": 296
        },
        "id": "IMTNCuoYt-9r",
        "outputId": "cce0cdfb-5241-4bec-abd8-9789fa2aa1b6"
      },
      "source": [
        "plot_predictions(test_set,predicted_stock_price)"
      ],
      "execution_count": null,
      "outputs": [
        {
          "output_type": "display_data",
          "data": {
            "image/png": "[encoded data removed]",
            "text/plain": [
              "<Figure size 432x288 with 1 Axes>"
            ]
          },
          "metadata": {
            "tags": [],
            "needs_background": "light"
          }
        }
      ]
    },
    {
      "cell_type": "markdown",
      "metadata": {
        "id": "FORx2zhawlUS"
      },
      "source": [
        "Оценка полученного результата"
      ]
    },
    {
      "cell_type": "code",
      "metadata": {
        "colab": {
          "base_uri": "https://localhost:8080/"
        },
        "id": "sPRGFQXAuWSI",
        "outputId": "18187d94-5d31-42f8-de42-0274b8e60107"
      },
      "source": [
        "return_rmse(test_set,predicted_stock_price)"
      ],
      "execution_count": null,
      "outputs": [
        {
          "output_type": "stream",
          "text": [
            "Среднеквадратичная ошибка: 2.209262248031754.\n"
          ],
          "name": "stdout"
        }
      ]
    },
    {
      "cell_type": "markdown",
      "metadata": {
        "id": "JMQsBtABy3PW"
      },
      "source": [
        "Решим эту же задачу еще раз с использованием  механизма управляемого рекуррентного блока (GRU)"
      ]
    },
    {
      "cell_type": "code",
      "metadata": {
        "colab": {
          "base_uri": "https://localhost:8080/"
        },
        "id": "xdM4z1NKykt1",
        "outputId": "2a1516c7-2069-4bd8-bca0-f79abbdb2eca"
      },
      "source": [
        "# Архитектура GRU\n",
        "regressorGRU = Sequential()\n",
        "# Первый GRU-нейрон\n",
        "regressorGRU.add(GRU(units=50, return_sequences=True, input_shape=(X_train.shape[1],1), activation='tanh'))\n",
        "regressorGRU.add(Dropout(0.2))\n",
        "# Второй GRU-нейрон\n",
        "regressorGRU.add(GRU(units=50, return_sequences=True, input_shape=(X_train.shape[1],1), activation='tanh'))\n",
        "regressorGRU.add(Dropout(0.2))\n",
        "# Третий GRU-нейрон\n",
        "regressorGRU.add(GRU(units=50, return_sequences=True, input_shape=(X_train.shape[1],1), activation='tanh'))\n",
        "regressorGRU.add(Dropout(0.2))\n",
        "# Четвертый GRU-нейрон\n",
        "regressorGRU.add(GRU(units=50, activation='tanh'))\n",
        "regressorGRU.add(Dropout(0.2))\n",
        "# Нейроон, выдающий финальный результат\n",
        "regressorGRU.add(Dense(units=1))\n",
        "# Компилирование\n",
        "regressorGRU.compile(optimizer=SGD(lr=0.01, decay=1e-7, momentum=0.9, nesterov=False),loss='mean_squared_error')\n",
        "# Обучение модели\n",
        "regressorGRU.fit(X_train,y_train,epochs=50,batch_size=150)"
      ],
      "execution_count": null,
      "outputs": [
        {
          "output_type": "stream",
          "text": [
            "/usr/local/lib/python3.7/dist-packages/tensorflow/python/keras/optimizer_v2/optimizer_v2.py:375: UserWarning: The `lr` argument is deprecated, use `learning_rate` instead.\n",
            "  \"The `lr` argument is deprecated, use `learning_rate` instead.\")\n"
          ],
          "name": "stderr"
        },
        {
          "output_type": "stream",
          "text": [
            "Epoch 1/50\n",
            "19/19 [==============================] - 13s 222ms/step - loss: 0.1558\n",
            "Epoch 2/50\n",
            "19/19 [==============================] - 4s 224ms/step - loss: 0.0400\n",
            "Epoch 3/50\n",
            "19/19 [==============================] - 4s 223ms/step - loss: 0.0114\n",
            "Epoch 4/50\n",
            "19/19 [==============================] - 4s 219ms/step - loss: 0.0051\n",
            "Epoch 5/50\n",
            "19/19 [==============================] - 4s 217ms/step - loss: 0.0046\n",
            "Epoch 6/50\n",
            "19/19 [==============================] - 4s 222ms/step - loss: 0.0039\n",
            "Epoch 7/50\n",
            "19/19 [==============================] - 4s 222ms/step - loss: 0.0038\n",
            "Epoch 8/50\n",
            "19/19 [==============================] - 4s 221ms/step - loss: 0.0034\n",
            "Epoch 9/50\n",
            "19/19 [==============================] - 4s 220ms/step - loss: 0.0033\n",
            "Epoch 10/50\n",
            "19/19 [==============================] - 4s 220ms/step - loss: 0.0032\n",
            "Epoch 11/50\n",
            "19/19 [==============================] - 4s 220ms/step - loss: 0.0033\n",
            "Epoch 12/50\n",
            "19/19 [==============================] - 4s 222ms/step - loss: 0.0032\n",
            "Epoch 13/50\n",
            "19/19 [==============================] - 4s 218ms/step - loss: 0.0031\n",
            "Epoch 14/50\n",
            "19/19 [==============================] - 4s 222ms/step - loss: 0.0030\n",
            "Epoch 15/50\n",
            "19/19 [==============================] - 4s 216ms/step - loss: 0.0027\n",
            "Epoch 16/50\n",
            "19/19 [==============================] - 4s 221ms/step - loss: 0.0029\n",
            "Epoch 17/50\n",
            "19/19 [==============================] - 4s 220ms/step - loss: 0.0030\n",
            "Epoch 18/50\n",
            "19/19 [==============================] - 4s 220ms/step - loss: 0.0025\n",
            "Epoch 19/50\n",
            "19/19 [==============================] - 4s 222ms/step - loss: 0.0026\n",
            "Epoch 20/50\n",
            "19/19 [==============================] - 4s 216ms/step - loss: 0.0027\n",
            "Epoch 21/50\n",
            "19/19 [==============================] - 4s 221ms/step - loss: 0.0025\n",
            "Epoch 22/50\n",
            "19/19 [==============================] - 4s 222ms/step - loss: 0.0026\n",
            "Epoch 23/50\n",
            "19/19 [==============================] - 4s 219ms/step - loss: 0.0026\n",
            "Epoch 24/50\n",
            "19/19 [==============================] - 4s 222ms/step - loss: 0.0024\n",
            "Epoch 25/50\n",
            "19/19 [==============================] - 4s 225ms/step - loss: 0.0026\n",
            "Epoch 26/50\n",
            "19/19 [==============================] - 4s 228ms/step - loss: 0.0023\n",
            "Epoch 27/50\n",
            "19/19 [==============================] - 4s 226ms/step - loss: 0.0023\n",
            "Epoch 28/50\n",
            "19/19 [==============================] - 4s 224ms/step - loss: 0.0024\n",
            "Epoch 29/50\n",
            "19/19 [==============================] - 4s 223ms/step - loss: 0.0026\n",
            "Epoch 30/50\n",
            "19/19 [==============================] - 4s 227ms/step - loss: 0.0024\n",
            "Epoch 31/50\n",
            "19/19 [==============================] - 4s 220ms/step - loss: 0.0024\n",
            "Epoch 32/50\n",
            "19/19 [==============================] - 4s 223ms/step - loss: 0.0023\n",
            "Epoch 33/50\n",
            "19/19 [==============================] - 4s 219ms/step - loss: 0.0022\n",
            "Epoch 34/50\n",
            "19/19 [==============================] - 4s 220ms/step - loss: 0.0022\n",
            "Epoch 35/50\n",
            "19/19 [==============================] - 4s 221ms/step - loss: 0.0021\n",
            "Epoch 36/50\n",
            "19/19 [==============================] - 4s 221ms/step - loss: 0.0023\n",
            "Epoch 37/50\n",
            "19/19 [==============================] - 4s 223ms/step - loss: 0.0021\n",
            "Epoch 38/50\n",
            "19/19 [==============================] - 4s 221ms/step - loss: 0.0020\n",
            "Epoch 39/50\n",
            "19/19 [==============================] - 4s 218ms/step - loss: 0.0021\n",
            "Epoch 40/50\n",
            "19/19 [==============================] - 4s 222ms/step - loss: 0.0021\n",
            "Epoch 41/50\n",
            "19/19 [==============================] - 4s 222ms/step - loss: 0.0023\n",
            "Epoch 42/50\n",
            "19/19 [==============================] - 4s 220ms/step - loss: 0.0021\n",
            "Epoch 43/50\n",
            "19/19 [==============================] - 4s 221ms/step - loss: 0.0021\n",
            "Epoch 44/50\n",
            "19/19 [==============================] - 4s 222ms/step - loss: 0.0022\n",
            "Epoch 45/50\n",
            "19/19 [==============================] - 4s 220ms/step - loss: 0.0021\n",
            "Epoch 46/50\n",
            "19/19 [==============================] - 4s 221ms/step - loss: 0.0021\n",
            "Epoch 47/50\n",
            "19/19 [==============================] - 4s 220ms/step - loss: 0.0020\n",
            "Epoch 48/50\n",
            "19/19 [==============================] - 4s 220ms/step - loss: 0.0023\n",
            "Epoch 49/50\n",
            "19/19 [==============================] - 4s 219ms/step - loss: 0.0020\n",
            "Epoch 50/50\n",
            "19/19 [==============================] - 4s 223ms/step - loss: 0.0021\n"
          ],
          "name": "stdout"
        },
        {
          "output_type": "execute_result",
          "data": {
            "text/plain": [
              "<keras.callbacks.History at 0x7f01502fbc10>"
            ]
          },
          "metadata": {
            "tags": []
          },
          "execution_count": 21
        }
      ]
    },
    {
      "cell_type": "code",
      "metadata": {
        "id": "P2eEX37TzgSy"
      },
      "source": [
        "X_test = []\n",
        "for i in range(60,311):\n",
        "    X_test.append(inputs[i-60:i,0])\n",
        "X_test = np.array(X_test)\n",
        "X_test = np.reshape(X_test, (X_test.shape[0],X_test.shape[1],1))\n",
        "GRU_predicted_stock_price = regressorGRU.predict(X_test)\n",
        "GRU_predicted_stock_price = sc.inverse_transform(GRU_predicted_stock_price)"
      ],
      "execution_count": null,
      "outputs": []
    },
    {
      "cell_type": "code",
      "metadata": {
        "id": "fUzEZLiF78Pq",
        "colab": {
          "base_uri": "https://localhost:8080/",
          "height": 296
        },
        "outputId": "54bde0ac-8a13-4bab-9877-294d36b6fbed"
      },
      "source": [
        "plot_predictions(test_set,GRU_predicted_stock_price)"
      ],
      "execution_count": null,
      "outputs": [
        {
          "output_type": "display_data",
          "data": {
            "image/png": "[encoded data removed]",
            "text/plain": [
              "<Figure size 432x288 with 1 Axes>"
            ]
          },
          "metadata": {
            "tags": [],
            "needs_background": "light"
          }
        }
      ]
    },
    {
      "cell_type": "code",
      "metadata": {
        "id": "TgW4gVGg74a3",
        "colab": {
          "base_uri": "https://localhost:8080/"
        },
        "outputId": "e8474215-2d8a-4f38-b4bc-21782e1f4839"
      },
      "source": [
        "return_rmse(test_set,GRU_predicted_stock_price)"
      ],
      "execution_count": null,
      "outputs": [
        {
          "output_type": "stream",
          "text": [
            "Среднеквадратичная ошибка: 3.2037948373867344.\n"
          ],
          "name": "stdout"
        }
      ]
    }
  ]
}