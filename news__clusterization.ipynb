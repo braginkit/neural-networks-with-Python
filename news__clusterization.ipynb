{
  "nbformat": 4,
  "nbformat_minor": 0,
  "metadata": {
    "colab": {
      "name": "news_ clusterization.ipynb",
      "provenance": [],
      "authorship_tag": "ABX9TyNKEx8e/f7BEPB10vLVvh1V",
      "include_colab_link": true
    },
    "kernelspec": {
      "name": "python3",
      "display_name": "Python 3"
    },
    "language_info": {
      "name": "python"
    }
  },
  "cells": [
    {
      "cell_type": "markdown",
      "metadata": {
        "id": "view-in-github",
        "colab_type": "text"
      },
      "source": [
        "<a href=\"https://colab.research.google.com/github/braginkit/neural-networks-with-Python/blob/main/news__clusterization.ipynb\" target=\"_parent\"><img src=\"https://colab.research.google.com/assets/colab-badge.svg\" alt=\"Open In Colab\"/></a>"
      ]
    },
    {
      "cell_type": "code",
      "metadata": {
        "id": "cEVt5ySwgLvy"
      },
      "source": [
        "import requests\n",
        "from datetime import datetime\n",
        "from bs4 import BeautifulSoup"
      ],
      "execution_count": null,
      "outputs": []
    },
    {
      "cell_type": "code",
      "metadata": {
        "id": "vDtj_lq6hLC3"
      },
      "source": [
        "base_url = 'https://www.starhit.ru/novosti/'\n",
        "url_format = '/{}/{}/{}/'"
      ],
      "execution_count": null,
      "outputs": []
    },
    {
      "cell_type": "code",
      "metadata": {
        "id": "Qu4ZDAIihZ7z"
      },
      "source": [
        "def get_links(date):\n",
        "  h3s=BeautifulSoup(\n",
        "      requests.get(\"https://www.starhit.ru/novosti/{:04d}/{:02d}/{:02d}/\".format(\n",
        "          date.year,\n",
        "          date.month,\n",
        "          date.day,\n",
        "      )).text, \"html5lib\"\n",
        "  ).find_all(\"h3\")\n",
        "  links=[\"https://www.starhit.ru/novosti/\"+l.find_all(\"a\")[0][\"href\"] for l in h3s]\n",
        "  return links\n",
        "\n",
        "def sanitize(text):\n",
        "  text = bytes(text, 'utf-8').decode('utf-8', 'ignore')\n",
        "  text.replace('\\n', ' ')\n",
        "  return text\n",
        "\n",
        "def get_new(link):\n",
        "  res = requests.get(link)\n",
        "  bs = BeautifulSoup(res.text, \"html5lib\")\n",
        "  aTitle=bs.h1.text.replace(\"\\xa0\", \" \")\n",
        "  anArticle=BeautifulSoup(\n",
        "      \" \".join([p.text for p in bs.find_all(\"p\")]), \"html5lib\"\n",
        "  ).get_text().replace(\"\\xa0\", \" \")\n",
        "  cat = next(\n",
        "      a\n",
        "      for a in bs.find_all('a')\n",
        "      if a.get('class') and a.get('class')[0].endswith('b-header__block')\n",
        "  ).text\n",
        "  return sanitize(cat), sanitize(aTitle), sanitize(anArticle)"
      ],
      "execution_count": null,
      "outputs": []
    },
    {
      "cell_type": "code",
      "metadata": {
        "id": "GcyKTRkfkOUI"
      },
      "source": [
        "import csv\n",
        "import io\n",
        "from datetime import timedelta\n",
        "\n",
        "with io.open('lenta.csv', \"w\", encoding=\"utf-8\") as f:\n",
        "  writer = csv.writer(f, quoting=csv.QUOTE_MINIMAL)\n",
        "  writer.writerow(('class', 'title', 'text'))\n",
        "\n",
        "  date = datetime.today()\n",
        "  count = 0\n",
        "  maxcount = 1000\n",
        "  i = 0\n",
        "  try:\n",
        "    links = get_links(date)\n",
        "    while count < maxcount:\n",
        "      for l in links:\n",
        "        print(f'[{count}/{maxcount}]', l)\n",
        "        count += 1\n",
        "        writer.writerow(get_new(l))\n",
        "  except Exception as e:\n",
        "    print(e)"
      ],
      "execution_count": null,
      "outputs": []
    },
    {
      "cell_type": "code",
      "metadata": {
        "id": "oj6cCsdbmC3x"
      },
      "source": [
        "import json\n",
        "import pandas as pd\n",
        "\n",
        "with open(\"lenta.csv\", encoding=\"utf-8\") as newsfile:\n",
        "  df = pd.read_csv(newsfile)"
      ],
      "execution_count": null,
      "outputs": []
    },
    {
      "cell_type": "code",
      "metadata": {
        "colab": {
          "base_uri": "https://localhost:8080/"
        },
        "id": "edskAMxKmeCb",
        "outputId": "ac3c5161-50bd-493f-9898-fdd3bf180687"
      },
      "source": [
        "import nltk\n",
        "\n",
        "nltk.download('stopwords')\n",
        "nltk.download('punkt')"
      ],
      "execution_count": null,
      "outputs": [
        {
          "output_type": "stream",
          "text": [
            "[nltk_data] Downloading package stopwords to /root/nltk_data...\n",
            "[nltk_data]   Package stopwords is already up-to-date!\n",
            "[nltk_data] Downloading package punkt to /root/nltk_data...\n",
            "[nltk_data]   Package punkt is already up-to-date!\n"
          ],
          "name": "stdout"
        },
        {
          "output_type": "execute_result",
          "data": {
            "text/plain": [
              "True"
            ]
          },
          "metadata": {
            "tags": []
          },
          "execution_count": 17
        }
      ]
    },
    {
      "cell_type": "code",
      "metadata": {
        "colab": {
          "base_uri": "https://localhost:8080/",
          "height": 204
        },
        "id": "FGI6xzQ8msxi",
        "outputId": "d2269887-686d-4529-c078-a6c7141ca7e4"
      },
      "source": [
        "df.head()"
      ],
      "execution_count": null,
      "outputs": [
        {
          "output_type": "execute_result",
          "data": {
            "text/html": [
              "<div>\n",
              "<style scoped>\n",
              "    .dataframe tbody tr th:only-of-type {\n",
              "        vertical-align: middle;\n",
              "    }\n",
              "\n",
              "    .dataframe tbody tr th {\n",
              "        vertical-align: top;\n",
              "    }\n",
              "\n",
              "    .dataframe thead th {\n",
              "        text-align: right;\n",
              "    }\n",
              "</style>\n",
              "<table border=\"1\" class=\"dataframe\">\n",
              "  <thead>\n",
              "    <tr style=\"text-align: right;\">\n",
              "      <th></th>\n",
              "      <th>class</th>\n",
              "      <th>title</th>\n",
              "      <th>text</th>\n",
              "    </tr>\n",
              "  </thead>\n",
              "  <tbody>\n",
              "    <tr>\n",
              "      <th>0</th>\n",
              "      <td>Мир</td>\n",
              "      <td>ХАМАС назвал сроки и условия для перемирия с И...</td>\n",
              "      <td>Соглашение о перемирии между Палестиной и Изра...</td>\n",
              "    </tr>\n",
              "    <tr>\n",
              "      <th>1</th>\n",
              "      <td>Наука и техника</td>\n",
              "      <td>Аналог Су-57 ВВС США получит «очень большую» р...</td>\n",
              "      <td>Истребитель F-15EX Eagle II Военно-воздушных с...</td>\n",
              "    </tr>\n",
              "    <tr>\n",
              "      <th>2</th>\n",
              "      <td>Мир</td>\n",
              "      <td>Блинкен назвал цель США в отношениях с Россией</td>\n",
              "      <td>Госсекретарь США Энтони Блинкен заявил, что Ва...</td>\n",
              "    </tr>\n",
              "    <tr>\n",
              "      <th>3</th>\n",
              "      <td>Ценности</td>\n",
              "      <td>Ирина Шейк снялась в стрингах и подверглась кр...</td>\n",
              "      <td>Российская супермодель Ирина Шейк снялась полу...</td>\n",
              "    </tr>\n",
              "    <tr>\n",
              "      <th>4</th>\n",
              "      <td>Мир</td>\n",
              "      <td>Названы попадающие под санкции США из-за «Севе...</td>\n",
              "      <td>США намерены ввести санкции против четырех рос...</td>\n",
              "    </tr>\n",
              "  </tbody>\n",
              "</table>\n",
              "</div>"
            ],
            "text/plain": [
              "             class  ...                                               text\n",
              "0              Мир  ...  Соглашение о перемирии между Палестиной и Изра...\n",
              "1  Наука и техника  ...  Истребитель F-15EX Eagle II Военно-воздушных с...\n",
              "2              Мир  ...  Госсекретарь США Энтони Блинкен заявил, что Ва...\n",
              "3         Ценности  ...  Российская супермодель Ирина Шейк снялась полу...\n",
              "4              Мир  ...  США намерены ввести санкции против четырех рос...\n",
              "\n",
              "[5 rows x 3 columns]"
            ]
          },
          "metadata": {
            "tags": []
          },
          "execution_count": 18
        }
      ]
    },
    {
      "cell_type": "code",
      "metadata": {
        "colab": {
          "base_uri": "https://localhost:8080/",
          "height": 376
        },
        "id": "XngDPEuAmwbj",
        "outputId": "346e3bd9-af0d-4fed-b42a-870674756f9e"
      },
      "source": [
        "import matplotlib.pyplot as plt\n",
        "cats = df.groupby('class')['class'].count()\n",
        "cats.plot.bar(ylim=0)\n",
        "plt.show()"
      ],
      "execution_count": null,
      "outputs": [
        {
          "output_type": "display_data",
          "data": {
            "image/png": "[encoded data removed]",
            "text/plain": [
              "<Figure size 432x288 with 1 Axes>"
            ]
          },
          "metadata": {
            "tags": [],
            "needs_background": "light"
          }
        }
      ]
    },
    {
      "cell_type": "code",
      "metadata": {
        "colab": {
          "base_uri": "https://localhost:8080/"
        },
        "id": "M1qgQVdhnERm",
        "outputId": "f209c9b5-2074-40a9-df1e-93a35c348c7c"
      },
      "source": [
        "import re\n",
        "from nltk.corpus import stopwords\n",
        "from nltk.stem import PorterStemmer\n",
        "\n",
        "stemmer = PorterStemmer()\n",
        "words = stopwords.words(\"russian\")\n",
        "df['cleaned'] = df.text.apply(\n",
        "    lambda x: \" \".join(\n",
        "        [stemmer.stem(i)\n",
        "         for i in re.findall(\n",
        "            '[A-Za-zА-ЯЁа-яё]+-[A-Za-zА-ЯЁа-яё]+|[A-Za-zА-ЯЁа-яё]+', x\n",
        "        ) if i not in words]\n",
        "    ).lower()\n",
        ")\n",
        "df.cleaned.head()"
      ],
      "execution_count": null,
      "outputs": [
        {
          "output_type": "execute_result",
          "data": {
            "text/plain": [
              "0    соглашение перемирии палестиной израилем дости...\n",
              "1    истребитель f ex eagl ii военно-воздушных сил ...\n",
              "2    госсекретарь сша энтони блинкен заявил вашингт...\n",
              "3    российская супермодель ирина шейк снялась полу...\n",
              "4    сша намерены ввести санкции против четырех рос...\n",
              "Name: cleaned, dtype: object"
            ]
          },
          "metadata": {
            "tags": []
          },
          "execution_count": 20
        }
      ]
    },
    {
      "cell_type": "code",
      "metadata": {
        "id": "7hqWsv7_omEJ"
      },
      "source": [
        "from sklearn.feature_extraction.text import TfidfVectorizer\n",
        "\n",
        "n_features = 20\n",
        "\n",
        "vectorizer = TfidfVectorizer(\n",
        "    norm='l2',\n",
        ")"
      ],
      "execution_count": null,
      "outputs": []
    },
    {
      "cell_type": "code",
      "metadata": {
        "id": "yossn8sVo-yO"
      },
      "source": [
        "from sklearn.pipeline import Pipeline\n",
        "from sklearn.metrics import classification_report, confusion_matrix, adjusted_rand_score\n",
        "from sklearn.model_selection import train_test_split\n",
        "from sklearn.feature_selection import SelectKBest, chi2\n",
        "from sklearn.ensemble import RandomForestClassifier\n",
        "from sklearn.svm import SVC\n",
        "from sklearn.cluster import DBSCAN\n",
        "from sklearn.decomposition import TruncatedSVD\n",
        "from sklearn.preprocessing import Normalizer\n",
        "from sklearn.pipeline import make_pipeline\n",
        "from sklearn.cluster import MiniBatchKMeans, KMeans\n",
        "\n",
        "import pickle\n",
        "import numpy as np"
      ],
      "execution_count": null,
      "outputs": []
    },
    {
      "cell_type": "code",
      "metadata": {
        "id": "fz3Dn6ggwpXe"
      },
      "source": [
        "crit=[]\n",
        "\n",
        "for k in range(10, 20):\n",
        "  kmeans = KMeans(n_clusters=k,  init='random', n_init=10, verbose=1, n_jobs=-1)\n",
        "  kmeans.fit(X)\n",
        "  crit.append(kmeans.inertia_)"
      ],
      "execution_count": null,
      "outputs": []
    },
    {
      "cell_type": "code",
      "metadata": {
        "colab": {
          "base_uri": "https://localhost:8080/",
          "height": 282
        },
        "id": "ipMuZNr1wqVu",
        "outputId": "b5cfa296-d02a-4b27-d9cb-7fe042219b3e"
      },
      "source": [
        "plt.plot(range(10, 20), crit)"
      ],
      "execution_count": null,
      "outputs": [
        {
          "output_type": "execute_result",
          "data": {
            "text/plain": [
              "[<matplotlib.lines.Line2D at 0x7f5c93339750>]"
            ]
          },
          "metadata": {
            "tags": []
          },
          "execution_count": 27
        },
        {
          "output_type": "display_data",
          "data": {
            "image/png": "[encoded data removed]",
            "text/plain": [
              "<Figure size 432x288 with 1 Axes>"
            ]
          },
          "metadata": {
            "tags": [],
            "needs_background": "light"
          }
        }
      ]
    },
    {
      "cell_type": "code",
      "metadata": {
        "id": "OGi7XqvywgDn"
      },
      "source": [
        "labels = df['class']\n",
        "X = df['cleaned']\n",
        "\n",
        "X = vectorizer.fit(X).transform(X)\n",
        "\n",
        "model = KMeans(n_clusters=15, init='random', n_init=10, verbose=1, n_jobs=-1)"
      ],
      "execution_count": null,
      "outputs": []
    },
    {
      "cell_type": "code",
      "metadata": {
        "colab": {
          "base_uri": "https://localhost:8080/"
        },
        "id": "qM4qbT4Rq91-",
        "outputId": "731d3f04-a2bb-4616-d596-9fdbd65b6f4c"
      },
      "source": [
        "Y = model.fit(X)\n",
        "print(adjusted_rand_score(labels, model.labels_))"
      ],
      "execution_count": null,
      "outputs": [
        {
          "output_type": "stream",
          "text": [
            "0.08517759956442582\n"
          ],
          "name": "stdout"
        }
      ]
    }
  ]
}